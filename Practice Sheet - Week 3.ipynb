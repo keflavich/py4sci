{
 "metadata": {
  "name": "Practice Sheet - Week 3"
 },
 "nbformat": 3,
 "nbformat_minor": 0,
 "worksheets": [
  {
   "cells": [
    {
     "cell_type": "markdown",
     "metadata": {},
     "source": [
      "Practice Sheet - Week 3\n",
      "=======================\n",
      "\n",
      "These exercises are just for practice (and fun!), and you can find the solutions in **Practice Sheet - Week 3 - Solutions**. You are free to try and collaborate with other students for this, since it isn't assessed. One way you can do it is to try it yourself, then to compare results with other students, and try and improve your solutions!\n",
      "\n",
      "Practice Problem 1\n",
      "------------------\n",
      "\n",
      "Write a script that will randomly sample 1000 values from a Gaussian (or 'normal') distribution with mean 4.4 and standard deviation 1.2, and make a histogram of the sampled values. Overplot a Gaussian function with the same mean and standard deviation. Note that there is an option for ``plt.hist`` called ``normed`` which can be used to normalize the histogram (``normed=True``).\n",
      "\n",
      "Practice Problem 2\n",
      "------------------\n",
      "\n",
      "Let's have a look in more detail at how much faster Numpy can be compared to using Python lists. Write a function that takes two Python lists (of equal length) and will return a new list containing the sum of each element, so that if you gave it for example ``[1,2,3]`` and ``[4,5,6]`` it would return ``[1+4, 2+5, 3+6]=[5,7,9]``. Then generate two lists of length 1000 with e.g. range (the exact values don't matter, so ``range(1000)`` would be fine for both). Try calling the function to make sure that it works correctly, then try timing the function with the IPython ``timeit`` command, for example:\n",
      "\n",
      "    %timeit result = add_lists(list1, list2)\n",
      "\n",
      "This will tell you how long the function takes. Now try instead converting the lists to arrays, and time the sum of the arrays:\n",
      "\n",
      "    %timeit result = array1 + array2\n",
      "\n",
      "You should find that the two methods are very different, and that arrays provide a clear advantage in terms of performance."
     ]
    },
    {
     "cell_type": "code",
     "collapsed": false,
     "input": [],
     "language": "python",
     "metadata": {},
     "outputs": []
    }
   ],
   "metadata": {}
  }
 ]
}