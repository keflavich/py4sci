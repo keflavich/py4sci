{
 "metadata": {
  "name": "Problem Set 3"
 },
 "nbformat": 3,
 "nbformat_minor": 0,
 "worksheets": [
  {
   "cells": [
    {
     "cell_type": "markdown",
     "metadata": {},
     "source": [
      "When searching for planets around other stars, one commonly used technique is to measure the velocity of the star "
     ]
    }
   ],
   "metadata": {}
  }
 ]
}