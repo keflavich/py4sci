{
 "metadata": {
  "name": "1. What is Python"
 },
 "nbformat": 3,
 "nbformat_minor": 0,
 "worksheets": [
  {
   "cells": [
    {
     "cell_type": "markdown",
     "metadata": {},
     "source": [
      "What is Python?\n",
      "===============\n",
      "\n",
      "How does it compare to other languages?\n",
      "---------------------------------------\n",
      "\n",
      "Python is an **interpreted** language, which means that the code is not compiled in advance, which makes it slower than languages like C/C++ or Fortran. Why therefore would we want to learn/use it?\n",
      "\n",
      "* It has a clean and simple syntax which emphasises readability\n",
      "* It can be much faster to write programs in than other languages\n",
      "* It gives very detailed errors by default which makes it easier to fix bugs\n",
      "* It is easy to use for interactive analysis\n",
      "* It has a large ecosystem of packages available for everything from numerical analysis, databases, graphical interfaces, web scraping, etc.\n",
      "* It is easy to interface with C/Fortran code\n",
      "* It can interact with command-line programs, and many other languages\n",
      "* Packages such as Numpy (for arrays) are written in C, which means that we *can* get the convenience of Python and the speed of C\n",
      "* There is a strong community of friendly developers!\n",
      "\n",
      "A note on Python 3\n",
      "------------------\n",
      "\n",
      "The latest version of Python is currently 3.3, but many people are still using version 2.7 (the latest 2.x release) because Python 3.x includes some big changes which means that not all packages are ready. In this course, we will learn Python 2.x syntax, but I will point out later in the course what changes are required to switch to Python 3.x."
     ]
    }
   ],
   "metadata": {}
  }
 ]
}