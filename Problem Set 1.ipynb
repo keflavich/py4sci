{
 "metadata": {
  "name": "Problem Set 1"
 },
 "nbformat": 3,
 "nbformat_minor": 0,
 "worksheets": [
  {
   "cells": [
    {
     "cell_type": "markdown",
     "metadata": {},
     "source": [
      "Problem Set 1\n",
      "=============\n",
      "\n",
      "You should now be familiar with running Python code, basic data types, and control flow. The exercises below are fairly standard problems for making sure that you understand the basics and get familiar with the solution submission process, but problems will become more interesting and based on scientific problems as the course progresses!\n",
      "\n",
      "Please submit one file per exercise to Gist as described in the course overview (it is possible to submit multiple files in each Gist). If you have any trouble submitting your solutions, you can email them to me at robitaille@mpia.de.\n",
      "\n",
      "For this problem set, you should not use any modules (i.e. ``import ...```) in the solution scripts.\n",
      "\n",
      "Remember to comment your code - you can add comments by starting a line with a ``#``:"
     ]
    },
    {
     "cell_type": "code",
     "collapsed": false,
     "input": [
      "# this is a comment"
     ],
     "language": "python",
     "metadata": {},
     "outputs": [],
     "prompt_number": 1
    },
    {
     "cell_type": "markdown",
     "metadata": {},
     "source": [
      "If you do not understand what is being asked in the question, feel free to ask me!\n",
      "\n",
      "Exercise 1 (5 points)\n",
      "---------------------\n",
      "\n",
      "Write a program that will print out all the prime numbers (numbers divisible only by one and themselves) below 1000. Also calculate the mean of these prime numbers, and print out a message that says ``\"Mean: \"`` followed by the mean value.\n",
      "\n",
      "Hint: the ``%`` operator can be used to find the remainder of the division of an integer by another:"
     ]
    },
    {
     "cell_type": "code",
     "collapsed": false,
     "input": [
      "20 % 3"
     ],
     "language": "python",
     "metadata": {},
     "outputs": [
      {
       "output_type": "pyout",
       "prompt_number": 2,
       "text": [
        "2"
       ]
      }
     ],
     "prompt_number": 2
    },
    {
     "cell_type": "markdown",
     "metadata": {},
     "source": [
      "Exercise 2 (5 points)\n",
      "---------------------\n",
      "\n",
      "Write a program that will find the Fibonacci sequence up to (and excluding) 100000. The two first numbers are 0 and 1, and every subsequent number is the sum of the two previous ones, so the sequence starts ``[0, 1, 1, 2, 3, 5, ...]``. Store the sequence inside a Python list, and only print out the whole list to the screen once all the numbers are available. Then, check whether any of the numbers in the sequence are a square (e.g. ``0*0``, ``1*1``, ``2*2``, ``3*3``, ``4*4``) and print out those that are."
     ]
    },
    {
     "cell_type": "code",
     "collapsed": false,
     "input": [],
     "language": "python",
     "metadata": {},
     "outputs": []
    }
   ],
   "metadata": {}
  }
 ]
}