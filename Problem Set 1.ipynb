{
 "metadata": {
  "name": "Problem Set 1"
 },
 "nbformat": 3,
 "nbformat_minor": 0,
 "worksheets": [
  {
   "cells": [
    {
     "cell_type": "markdown",
     "metadata": {},
     "source": [
      "Problem Set 1\n",
      "=============\n",
      "\n",
      "You should now be familiar with running Python code, basic data types, and control flow. The exercises below are fairly standard problems for making sure that you understand the basics and get familiar with the solution submission process, but problems will become more interesting and based on scientific problems as the course progresses!\n",
      "\n",
      "Please submit one file per exercise to Gist as described in the course overview (it is possible to submit multiple files in each Gist). If you have any trouble submitting your solutions, you can email them to me at robitaille@mpia.de.\n",
      "\n",
      "For this problem set, you should not use any modules (i.e. ``import ...```) in the solution scripts.\n",
      "\n",
      "Exercise 1 (5 points)\n",
      "---------------------\n",
      "\n",
      "Write a program that will print out all the prime numbers (numbers divisible only by one and themselves) below 1000. Hint: the ``%`` operator can be used to find the remainder of the division of an integer by another:"
     ]
    },
    {
     "cell_type": "code",
     "collapsed": false,
     "input": [
      "20 % 3"
     ],
     "language": "python",
     "metadata": {},
     "outputs": [
      {
       "output_type": "pyout",
       "prompt_number": 1,
       "text": [
        "2"
       ]
      }
     ],
     "prompt_number": 1
    },
    {
     "cell_type": "markdown",
     "metadata": {},
     "source": [
      "Exercise 2 (5 points)\n",
      "---------------------\n",
      "\n",
      "Write a program that will find  all the Fibonacci numbers below 1000. The two first numbers are 0 and 1, and every subsequent number is the sum of the two previous ones, so the sequence starts ``[0, 1, 1, 2, 3, 5, ...]``. Store the sequence inside a Python list, and only print out the whole list to the screen once all the numbers are available."
     ]
    }
   ],
   "metadata": {}
  }
 ]
}