{
 "metadata": {
  "name": "Problem Set 2"
 },
 "nbformat": 3,
 "nbformat_minor": 0,
 "worksheets": [
  {
   "cells": [
    {
     "cell_type": "markdown",
     "metadata": {},
     "source": [
      "Problem Set 2\n",
      "=============\n",
      "\n",
      "**This problem set is due by 18:00 on Friday 26th April**\n",
      "\n",
      "In this problem sheet, you are going to start tackling simple numerical problems. Let me know if any of the questions are unclear!\n",
      "\n",
      "Exercise 1 (5 points)\n",
      "---------------------\n",
      "\n",
      "One of the Python standard modules is called [random](http://docs.python.org/2/library/random.html), which you can import with:\n",
      "    \n",
      "    "
     ]
    },
    {
     "cell_type": "code",
     "collapsed": false,
     "input": [
      "import random"
     ],
     "language": "python",
     "metadata": {},
     "outputs": [],
     "prompt_number": 1
    },
    {
     "cell_type": "markdown",
     "metadata": {},
     "source": [
      "Using this module, and what we have learned so far, write a function that will simulate randomly rolling two dice (each with 6 faces) and will return the two values. Then, simulate 10000 throws, and for each throw find out what the sum of the two dice is. After the loop, print out what fraction of the time each sum was produced (there are 11 possibilities for the sum, from 2 to 12). The output should be formatted similar to:\n",
      "\n",
      "    2: 2.3312%\n",
      "    3: 5.312%\n",
      "    4: 4.1553%\n",
      "    ...\n",
      "\n",
      "Which means that 2.3312% of the time the sum of the dice was 2, 5.312% of the time the sum was 3, etc.\n",
      "\n",
      "Hint: lists and other sequences have a ``count()`` method that you might find useful here!\n",
      "    \n",
      "Exercise 2 (5 points)\n",
      "---------------------\n",
      "\n",
      "Write a function that will return the value of a *normalized* Gaussian distribution for a position ``x`` and parameters ``mu`` and ``sigma``, the mean and standard deviation of the distribution:\n",
      "\n",
      "$$f(x, \\mu, \\sigma) = \\frac{1}{\\sigma\\sqrt{2\\pi}}\\exp{\\left(-\\frac{(x - \\mu)^2}{2\\sigma^2}\\right)}$$\n",
      "\n",
      "Then, write another function that will perform simple [trapezium integration](http://en.wikipedia.org/wiki/Trapezoidal_rule) of the Gaussian distribution between two limits (without using existing integration routines), and make it so that the number of steps for the integration can be defined in the function, so the final function should look like:\n",
      "    \n",
      "    def integrate_gaussian(mu, sigma, xmin, xmax, n_steps):\n",
      "        # calculations here\n",
      "        \n",
      "Since the Gaussian function you wrote should be normalized, the **total** integral should be one. Check that you do indeed get a value of 1 (or close to 1) for the following combination:\n",
      "    \n",
      "    mu = 3.\n",
      "    sigma = 1.\n",
      "    xmin = -10.\n",
      "    xmax = +10.\n",
      "    n_steps = 1000\n",
      "    \n",
      "What happens if you reduce the number of steps to 300, 100, 30, 10, and 3? You can demonstrate this in the program, and add a comment with your explanation of what is happening.\n",
      "\n",
      "What happens if you set ``xmin=3`` instead of ``xmin=-10``, with ``n_steps=1000``? Again, make the code print out the value of the integral, and add a comment explaining why this is and whether it makes sense.\n",
      "   "
     ]
    }
   ],
   "metadata": {}
  }
 ]
}