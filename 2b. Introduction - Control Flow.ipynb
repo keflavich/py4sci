{
 "metadata": {
  "name": "2b. Introduction - Control Flow"
 },
 "nbformat": 3,
 "nbformat_minor": 0,
 "worksheets": [
  {
   "cells": [
    {
     "cell_type": "markdown",
     "metadata": {},
     "source": [
      "Introduction: Control Flow\n",
      "==========================\n",
      "\n",
      "In Python Basics I, we saw how to set variables of various types:"
     ]
    },
    {
     "cell_type": "code",
     "collapsed": false,
     "input": [
      "a = 1\n",
      "b = 3.14\n",
      "c = 'hello'\n",
      "d = [a, b, c]"
     ],
     "language": "python",
     "metadata": {},
     "outputs": [],
     "prompt_number": 1
    },
    {
     "cell_type": "markdown",
     "metadata": {},
     "source": [
      "but this doesn't get us very far. One essential part of programming is **control flow** which is the ability to control how the program will proceed based on for example some conditions, or making parts of the program run multiple times."
     ]
    },
    {
     "cell_type": "markdown",
     "metadata": {},
     "source": [
      "``if`` statements\n",
      "-----------------\n",
      "\n",
      "The simplest form of control flow is the ``if`` statement, which executes a block of code only if a certain condition is true (and optionally executes code if it is *not* true. The basic syntax for an if-statement is the following:\n",
      "\n",
      "    if condition:\n",
      "        # do something\n",
      "    elif condition:\n",
      "        # do something else\n",
      "    else:\n",
      "        # do yet something else\n",
      "\n",
      "Notice that there is no statement to end the if statement, and the\n",
      "presence of a colon (``:``) after each control flow statement. Python relies\n",
      "on **indentation and colons** to determine whether it is in a specific block of\n",
      "code. For example, in the following example::"
     ]
    },
    {
     "cell_type": "code",
     "collapsed": false,
     "input": [
      "a = 1\n",
      "if a == 1:\n",
      "    print \"a is 1, changing to 2\"\n",
      "    a = 2\n",
      "print \"finished\""
     ],
     "language": "python",
     "metadata": {},
     "outputs": [
      {
       "output_type": "stream",
       "stream": "stdout",
       "text": [
        "a is 1, changing to 2\n",
        "finished\n"
       ]
      }
     ],
     "prompt_number": 4
    },
    {
     "cell_type": "markdown",
     "metadata": {},
     "source": [
      "    \n",
      "\n",
      "The first print statement, and the ``a = 2`` statement only get executed if\n",
      "``a`` is 1. On the other hand, ``print \"finished\"`` gets executed regardless,\n",
      "once Python exits the if statement.\n",
      "\n",
      "**Indentation is very important in Python, and the convention is to use four spaces (not tabs) for each level of indent.**\n",
      "\n",
      "Back to the if-statements, the conditions in the statements can be anything\n",
      "that returns a boolean value. For example, ``a == 1``, ``b != 4``, and ``c <=\n",
      "5`` are valid conditions because they return either ``True`` or ``False``\n",
      "depending on whether the statements are true or not. Standard comparisons can\n",
      "be used (``==`` for equal, ``!=`` for not equal, ``<=`` for less or equal,\n",
      "``>=`` for greater or equal, ``<`` for less than, and ``>`` for greater than),\n",
      "as well as logical operators (``and``, ``or``, ``not``). Parentheses can be\n",
      "used to isolate different parts of conditions, to make clear in what order the\n",
      "comparisons should be executed, for example:\n",
      "\n",
      "    if (a == 1 and b <= 3) or c > 3:\n",
      "        # do something\n",
      "\n",
      "More generally, any function or expression that ultimately returns ``True`` or\n",
      "``False`` can be used."
     ]
    },
    {
     "cell_type": "markdown",
     "metadata": {},
     "source": [
      "``for`` loops\n",
      "-------------\n",
      "\n",
      "Another common structure that is important for controling the flow of execution are loops. Loops can be used to execute a block of code multiple times. The most common type of loop is the ``for`` loop. In its most basic form, it\n",
      "is straightforward::\n",
      "\n",
      "    for value in iterable:\n",
      "        # do things\n",
      "\n",
      "The ``iterable`` can be any Python object that can be iterated over. This\n",
      "includes lists or strings."
     ]
    },
    {
     "cell_type": "code",
     "collapsed": false,
     "input": [
      "for x in [3, 1.2, 'a']:\n",
      "    print x"
     ],
     "language": "python",
     "metadata": {},
     "outputs": [
      {
       "output_type": "stream",
       "stream": "stdout",
       "text": [
        "3\n",
        "1.2\n",
        "a\n"
       ]
      }
     ],
     "prompt_number": 5
    },
    {
     "cell_type": "code",
     "collapsed": false,
     "input": [
      "for letter in 'hello':\n",
      "    print letter"
     ],
     "language": "python",
     "metadata": {},
     "outputs": [
      {
       "output_type": "stream",
       "stream": "stdout",
       "text": [
        "h\n",
        "e\n",
        "l\n",
        "l\n",
        "o\n"
       ]
      }
     ],
     "prompt_number": 6
    },
    {
     "cell_type": "markdown",
     "metadata": {},
     "source": [
      "A common type of for loop is one where the value should go between two integers with a specific set size. To do this, we can use the ``range`` function. If given a single value, it will give a list ranging from 0 to the value minus 1:"
     ]
    },
    {
     "cell_type": "code",
     "collapsed": false,
     "input": [
      "range(10)"
     ],
     "language": "python",
     "metadata": {},
     "outputs": [
      {
       "output_type": "pyout",
       "prompt_number": 7,
       "text": [
        "[0, 1, 2, 3, 4, 5, 6, 7, 8, 9]"
       ]
      }
     ],
     "prompt_number": 7
    },
    {
     "cell_type": "code",
     "collapsed": false,
     "input": [
      "range(3, 12)"
     ],
     "language": "python",
     "metadata": {},
     "outputs": [
      {
       "output_type": "pyout",
       "prompt_number": 8,
       "text": [
        "[3, 4, 5, 6, 7, 8, 9, 10, 11]"
       ]
      }
     ],
     "prompt_number": 8
    },
    {
     "cell_type": "code",
     "collapsed": false,
     "input": [
      "range(2, 20, 2)  # the third entry specifies the \"step size\""
     ],
     "language": "python",
     "metadata": {},
     "outputs": [
      {
       "output_type": "pyout",
       "prompt_number": 1,
       "text": [
        "[2, 4, 6, 8, 10, 12, 14, 16, 18]"
       ]
      }
     ],
     "prompt_number": 1
    },
    {
     "cell_type": "markdown",
     "metadata": {},
     "source": [
      "Since ``range(...)`` returns a list, it can therefore be used in a ``for`` loop:"
     ]
    },
    {
     "cell_type": "code",
     "collapsed": false,
     "input": [
      "for i in range(10):\n",
      "    print i"
     ],
     "language": "python",
     "metadata": {},
     "outputs": [
      {
       "output_type": "stream",
       "stream": "stdout",
       "text": [
        "0\n",
        "1\n",
        "2\n",
        "3\n",
        "4\n",
        "5\n",
        "6\n",
        "7\n",
        "8\n",
        "9\n"
       ]
      }
     ],
     "prompt_number": 10
    },
    {
     "cell_type": "markdown",
     "metadata": {},
     "source": [
      "``while`` loops\n",
      "---------------\n",
      "\n",
      "Similarly to other programming languages, Python also provides a ``while`` loop which is similar to a ``for`` loop, but where the number of iterations is defined by a condition rather than an iterator:\n",
      "\n",
      "    while condition:\n",
      "        # do something\n",
      "\n",
      "For example, in the following example:"
     ]
    },
    {
     "cell_type": "code",
     "collapsed": false,
     "input": [
      "a = 1\n",
      "while a < 10:\n",
      "    print a\n",
      "    a = a * 1.4\n",
      "print \"Once the while loop has completed, a has the value\", a"
     ],
     "language": "python",
     "metadata": {},
     "outputs": [
      {
       "output_type": "stream",
       "stream": "stdout",
       "text": [
        "1\n",
        "1.4\n",
        "1.96\n",
        "2.744\n",
        "3.8416\n",
        "5.37824\n",
        "7.529536\n",
        "Once the while loop has completed, a has the value 10.5413504\n"
       ]
      }
     ],
     "prompt_number": 4
    },
    {
     "cell_type": "markdown",
     "metadata": {},
     "source": [
      "the loop is executed until ``a`` is equal to or exceeds 10."
     ]
    },
    {
     "cell_type": "markdown",
     "metadata": {},
     "source": [
      "Building programs\n",
      "=================\n",
      "\n",
      "These different control flow structures can be combined to form programs. For example, the following program will print out a different message depending on whether the current number in the loop is less, equal to, or greater than 10:"
     ]
    },
    {
     "cell_type": "code",
     "collapsed": false,
     "input": [
      "for value in [2,55,4,5,12,8,9,22]:\n",
      "    if value > 10:\n",
      "        print \"Value is greater than 10 (\" + str(value) + \")\"\n",
      "    elif value == 10:\n",
      "        print \"Value is exactly 10\"\n",
      "    else:\n",
      "        print \"Value is less than 10 (\" + str(value) + \")\""
     ],
     "language": "python",
     "metadata": {},
     "outputs": [
      {
       "output_type": "stream",
       "stream": "stdout",
       "text": [
        "Value is less than 10 (2)\n",
        "Value is greater than 10 (55)\n",
        "Value is less than 10 (4)\n",
        "Value is less than 10 (5)\n",
        "Value is greater than 10 (12)\n",
        "Value is less than 10 (8)\n",
        "Value is less than 10 (9)\n",
        "Value is greater than 10 (22)\n"
       ]
      }
     ],
     "prompt_number": 5
    },
    {
     "cell_type": "code",
     "collapsed": false,
     "input": [],
     "language": "python",
     "metadata": {},
     "outputs": []
    }
   ],
   "metadata": {}
  }
 ]
}