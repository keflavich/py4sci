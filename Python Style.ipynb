{
 "metadata": {
  "name": "Python Style"
 },
 "nbformat": 3,
 "nbformat_minor": 0,
 "worksheets": [
  {
   "cells": [
    {
     "cell_type": "markdown",
     "metadata": {},
     "source": [
      "Python style\n",
      "============\n",
      "\n",
      "Comments\n",
      "--------\n",
      "\n",
      "While it is possible to write comments in-line like:\n",
      "    \n",
      "    a = 1  # here is a comment\n",
      "    \n",
      "in some cases this can become very long, so it is easier if you put the comment on the line above, and then make sure the line is not too long (people usually stick to 80 characters as a maximum):\n",
      "    \n",
      "    # this is a very long comment that would not be readable if it was much longer\n",
      "    # than 80 characters, so I have put it over several lines.\n",
      "    a = 1\n",
      "    \n",
      "Indentation\n",
      "-----------\n",
      "\n",
      "Indentation is **very** important in Python, and should **always be 4 spaces**. If you are using tabs, then this will make it very likely that you will encounter problems in future. This is because some editors/interpretors think that tabs are equivalent to 4 spaces, and some think they are equivalent to 8 spaces, so this:\n",
      "\n",
      "    while a < 10:\n",
      "        if a == 1:\n",
      "            print \"Hello\"\n",
      "    >   a = a + 1\n",
      "    \n",
      "where ``>`` indicates a tab, will be either interpreted as:\n",
      "    \n",
      "    while a < 10:\n",
      "        if a == 1:\n",
      "            print \"Hello\"\n",
      "            a = a + 1\n",
      "           \n",
      "which is incorrect, and will lead to an infinite loop, or:\n",
      "    \n",
      "    while a < 10:\n",
      "        if a == 1:\n",
      "            print \"Hello\"\n",
      "        a = a + 1\n",
      "        \n",
      "which is correct and will exit after 10 iterations. Ask me if you aren't sure how to get your editor to only use spaces!\n",
      "\n",
      "Variable and Function names\n",
      "---------------------------\n",
      "\n",
      "In general, always use lowercase letters for variable names and function names. So for example, do not use ``IsPrime`` as a function name - use e.g. ``is_prime`` instead. This is because later in the course we will learn about classes, and the convention for those is to use capitalized names, e.g. ``Source``, and it makes it very useful when you are reading code to be able to distinguish between the different kinds of objects from their name.\n"
     ]
    }
   ],
   "metadata": {}
  }
 ]
}