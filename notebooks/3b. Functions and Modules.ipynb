{
 "metadata": {
  "name": "3b. Functions and Modules"
 },
 "nbformat": 3,
 "nbformat_minor": 0,
 "worksheets": [
  {
   "cells": [
    {
     "cell_type": "markdown",
     "metadata": {},
     "source": [
      "Modules and Functions\n",
      "=====================\n",
      "\n",
      "Functions\n",
      "---------\n",
      "\n",
      "Last week, we learned how to run Python code, assign variables, and write control flow statements, which allows us to write programs that can do calculations. In fact, this is all you *really* need to write programs (except for being able to read in and write out data which we will talk about later). However, if you try and write more complicated programs than those you wrote for Problem Set 1, the programs will quickly become very long and unreadable. So one very important rule in programming is to **avoid repetition**.\n",
      "\n",
      "Let's say you want to write a program that checks if certain numbers are prime, and then you want to check later in the program if another set of values is prime. You *could* write:"
     ]
    },
    {
     "cell_type": "code",
     "collapsed": false,
     "input": [
      "for value in [3,5,6,8,9]:\n",
      "    prime = True\n",
      "    for i in range(2, int(value ** 0.5) + 1):\n",
      "        if value % i == 0:\n",
      "            prime = False\n",
      "    if prime:\n",
      "        print value, \"is prime\" \n",
      "         \n",
      "            \n",
      "for value in [34,12,27,21,23,13]:\n",
      "    prime = True\n",
      "    for i in range(2, int(value ** 0.5) + 1):\n",
      "        if value % i == 0:\n",
      "            prime = False\n",
      "    if prime:\n",
      "        print value, \"is prime\" "
     ],
     "language": "python",
     "metadata": {},
     "outputs": [
      {
       "output_type": "stream",
       "stream": "stdout",
       "text": [
        "3 is prime\n",
        "5 is prime\n",
        "23 is prime\n",
        "13 is prime\n"
       ]
      }
     ],
     "prompt_number": 9
    },
    {
     "cell_type": "markdown",
     "metadata": {},
     "source": [
      "But this is inefficient, because you are duplicating the code that checks if a value is prime. This is why, if you ever need to do something twice or more, and it is a well-defined task, think about putting it in a function:"
     ]
    },
    {
     "cell_type": "code",
     "collapsed": false,
     "input": [
      "def is_prime(value):\n",
      "    prime = True\n",
      "    for i in range(2, int(value ** 0.5) + 1):\n",
      "        if value % i == 0:\n",
      "            prime = False\n",
      "    return prime\n",
      "\n",
      "for value in [3,5,6,8,9]:\n",
      "    if is_prime(value):\n",
      "        print value, \"is prime\" \n",
      "\n",
      "for value in [34,12,27,21,23,13]:\n",
      "    if is_prime(value):\n",
      "        print value, \"is prime\" \n"
     ],
     "language": "python",
     "metadata": {},
     "outputs": [
      {
       "output_type": "stream",
       "stream": "stdout",
       "text": [
        "3 is prime\n",
        "5 is prime\n",
        "23 is prime\n",
        "13 is prime\n"
       ]
      }
     ],
     "prompt_number": 10
    },
    {
     "cell_type": "markdown",
     "metadata": {},
     "source": [
      "The syntax for a **function** is:\n",
      "    \n",
      "    def function_name(arguments):\n",
      "        # code here\n",
      "        return values\n",
      "    \n",
      "Functions are the **building blocks** of programs - think of them as basic units that are given a certain input an accomplish a certain task. Over time, you can build up more complex programs while preserving readability.\n",
      "\n",
      "Similarly to ``if`` statements and ``for`` and ``while`` loops, indentation is very important because it shows where the function starts and ends.\n",
      "\n",
      "**Note**: it is a common convention to always use lowercase names for functions.\n",
      "    \n",
      "A function can take multiple arguments:"
     ]
    },
    {
     "cell_type": "code",
     "collapsed": false,
     "input": [
      "def add(a, b):\n",
      "    return a + b\n",
      "\n",
      "print add(1,3)\n",
      "print add(1.,3.2)\n",
      "print add(4,3.)"
     ],
     "language": "python",
     "metadata": {},
     "outputs": [
      {
       "output_type": "stream",
       "stream": "stdout",
       "text": [
        "4\n",
        "4.2\n",
        "7.0\n"
       ]
      }
     ],
     "prompt_number": 14
    },
    {
     "cell_type": "markdown",
     "metadata": {},
     "source": [
      "and/or return multiple values:"
     ]
    },
    {
     "cell_type": "code",
     "collapsed": false,
     "input": [
      "def double_and_halve(value):\n",
      "    return value * 2., value / 2.\n",
      "\n",
      "print double_and_halve(5.)"
     ],
     "language": "python",
     "metadata": {},
     "outputs": [
      {
       "output_type": "stream",
       "stream": "stdout",
       "text": [
        "(10.0, 2.5)\n"
       ]
      }
     ],
     "prompt_number": 15
    },
    {
     "cell_type": "markdown",
     "metadata": {},
     "source": [
      "If multiple values are returned, you can store them in separate variables."
     ]
    },
    {
     "cell_type": "code",
     "collapsed": false,
     "input": [
      "d, h = double_and_halve(5.)"
     ],
     "language": "python",
     "metadata": {},
     "outputs": [],
     "prompt_number": 16
    },
    {
     "cell_type": "code",
     "collapsed": false,
     "input": [
      "print d"
     ],
     "language": "python",
     "metadata": {},
     "outputs": [
      {
       "output_type": "stream",
       "stream": "stdout",
       "text": [
        "10.0\n"
       ]
      }
     ],
     "prompt_number": 17
    },
    {
     "cell_type": "code",
     "collapsed": false,
     "input": [
      "print h"
     ],
     "language": "python",
     "metadata": {},
     "outputs": [
      {
       "output_type": "stream",
       "stream": "stdout",
       "text": [
        "2.5\n"
       ]
      }
     ],
     "prompt_number": 18
    },
    {
     "cell_type": "markdown",
     "metadata": {},
     "source": [
      "Functions can call other functions:"
     ]
    },
    {
     "cell_type": "code",
     "collapsed": false,
     "input": [
      "def is_divisible_by(value, other_value):\n",
      "    return value % other_value == 0\n",
      "\n",
      "def is_prime(value):\n",
      "    prime = True\n",
      "    for i in range(2, int(value ** 0.5) + 1):\n",
      "        if is_divisible_by(value, i):\n",
      "            prime = False\n",
      "    return prime\n",
      "\n",
      "for value in range(2, 30):\n",
      "    if is_prime(value):\n",
      "        print value, \"is prime\" \n"
     ],
     "language": "python",
     "metadata": {},
     "outputs": [
      {
       "output_type": "stream",
       "stream": "stdout",
       "text": [
        "2 is prime\n",
        "3 is prime\n",
        "5 is prime\n",
        "7 is prime\n",
        "11 is prime\n",
        "13 is prime\n",
        "17 is prime\n",
        "19 is prime\n",
        "23 is prime\n",
        "29 is prime\n"
       ]
      }
     ],
     "prompt_number": 22
    },
    {
     "cell_type": "markdown",
     "metadata": {},
     "source": [
      "Just because you can put code in functions doesn't mean you always should. It's best to try and break up the code into units that make sense - in the end, your function should ideally have a name that everyone can understand. So if we take the example from above, the following, in my opinion, is not as good even though it's one line shorter:"
     ]
    },
    {
     "cell_type": "code",
     "collapsed": false,
     "input": [
      "def is_prime(value):\n",
      "    prime = True\n",
      "    for i in range(2, int(value ** 0.5) + 1):\n",
      "        if value % i == 0:\n",
      "            prime = False\n",
      "    print value, \"is prime\"\n",
      "\n",
      "for value in [3,5,6,8,9]:\n",
      "    is_prime(value)\n",
      "\n",
      "for value in [34,12,27,21,23,13]:\n",
      "    is_prime(value)\n"
     ],
     "language": "python",
     "metadata": {},
     "outputs": []
    },
    {
     "cell_type": "markdown",
     "metadata": {},
     "source": [
      "The issue is that to me, ``is_prime`` means - just from the name - that it will return ``True`` or ``False`` depending on whether the value passed is prime, and doesn't say anything about printing. If you wanted to do this, the function should ideally be called ``print_message_if_prime`` or something similar. So don't define functions based on just making the shortest possible program, but also take into account that functions should be basic units that make sense conceptually."
     ]
    },
    {
     "cell_type": "markdown",
     "metadata": {},
     "source": [
      "Built-in functions\n",
      "------------------\n",
      "\n",
      "Some of you may have already noticed that there are a few functions that are defined by default in Python:"
     ]
    },
    {
     "cell_type": "code",
     "collapsed": false,
     "input": [
      "x = [1,3,6,8,3]"
     ],
     "language": "python",
     "metadata": {},
     "outputs": [],
     "prompt_number": 9
    },
    {
     "cell_type": "code",
     "collapsed": false,
     "input": [
      "len(x)"
     ],
     "language": "python",
     "metadata": {},
     "outputs": [
      {
       "output_type": "pyout",
       "prompt_number": 10,
       "text": [
        "5"
       ]
      }
     ],
     "prompt_number": 10
    },
    {
     "cell_type": "code",
     "collapsed": false,
     "input": [
      "sum(x)"
     ],
     "language": "python",
     "metadata": {},
     "outputs": [
      {
       "output_type": "pyout",
       "prompt_number": 11,
       "text": [
        "21"
       ]
      }
     ],
     "prompt_number": 11
    },
    {
     "cell_type": "markdown",
     "metadata": {},
     "source": [
      "In fact, some of them we have already used before:"
     ]
    },
    {
     "cell_type": "code",
     "collapsed": false,
     "input": [
      "int(1.2)  # this is a function that takes a float and returns an integer"
     ],
     "language": "python",
     "metadata": {},
     "outputs": [
      {
       "output_type": "pyout",
       "prompt_number": 14,
       "text": [
        "1"
       ]
      }
     ],
     "prompt_number": 14
    },
    {
     "cell_type": "markdown",
     "metadata": {},
     "source": [
      "A full list of built-in functions is available [here](http://docs.python.org/2/library/functions.html). Note that there are not *that* many - these are only the most common functions. Most functions are in fact kept inside modules, which we will now cover."
     ]
    },
    {
     "cell_type": "markdown",
     "metadata": {},
     "source": [
      "Modules\n",
      "=======\n",
      "\n",
      "One of the strengths of Python is that there are many built-in add-ons - or\n",
      "*modules* - which contain existing functions, classes, and variables which allow you to do complex tasks in only a few lines of code. In addition, there are many other third-party modules (e.g. Numpy, Scipy, Matplotlib) that can be installed, and you can also develop your own modules that include functionalities you commonly use.\n",
      "\n",
      "The built-in modules are referred to as the *Standard Library*, and you can\n",
      "find a full list of the available functionality in the [Python Documentation](http://docs.python.org/library/index.html).\n",
      "\n",
      "To use modules in your Python session or script, you need to **import** them. The\n",
      "following example shows how to import the built-in ``math`` module, which\n",
      "contains a number of useful mathematical functions:"
     ]
    },
    {
     "cell_type": "code",
     "collapsed": false,
     "input": [
      "import math"
     ],
     "language": "python",
     "metadata": {},
     "outputs": [],
     "prompt_number": 23
    },
    {
     "cell_type": "markdown",
     "metadata": {},
     "source": [
      "You can then access functions and other objects in the module with ``math.<function>``, for example:"
     ]
    },
    {
     "cell_type": "code",
     "collapsed": false,
     "input": [
      "math.sin(2.3)  # a function to compute sin(number)"
     ],
     "language": "python",
     "metadata": {},
     "outputs": [
      {
       "output_type": "pyout",
       "prompt_number": 24,
       "text": [
        "0.7457052121767203"
       ]
      }
     ],
     "prompt_number": 24
    },
    {
     "cell_type": "code",
     "collapsed": false,
     "input": [
      "math.factorial(20)  # a function to compute the factorial of a number (e.g. 20!)"
     ],
     "language": "python",
     "metadata": {},
     "outputs": [
      {
       "output_type": "pyout",
       "prompt_number": 27,
       "text": [
        "2432902008176640000"
       ]
      }
     ],
     "prompt_number": 27
    },
    {
     "cell_type": "code",
     "collapsed": false,
     "input": [
      "math.pi  # a variable that contains a very useful value"
     ],
     "language": "python",
     "metadata": {},
     "outputs": [
      {
       "output_type": "pyout",
       "prompt_number": 29,
       "text": [
        "3.141592653589793"
       ]
      }
     ],
     "prompt_number": 29
    },
    {
     "cell_type": "markdown",
     "metadata": {},
     "source": [
      "Because these modules exist, it means that if what you want to do is very common, it means it probably already exists, and you won't need to write it (making your code easier to read). For example, the ``numpy`` module, which we will talk about next week, contains useful functions for finding e.g. the mean, median, and standard deviation of a sequence of numbers:"
     ]
    },
    {
     "cell_type": "code",
     "collapsed": false,
     "input": [
      "import numpy as np"
     ],
     "language": "python",
     "metadata": {},
     "outputs": [],
     "prompt_number": 30
    },
    {
     "cell_type": "code",
     "collapsed": false,
     "input": [
      "li = [1,2,7,3,1,3]\n",
      "np.mean(li)"
     ],
     "language": "python",
     "metadata": {},
     "outputs": []
    },
    {
     "cell_type": "code",
     "collapsed": false,
     "input": [
      "np.median(li)"
     ],
     "language": "python",
     "metadata": {},
     "outputs": [
      {
       "output_type": "pyout",
       "prompt_number": 35,
       "text": [
        "2.5"
       ]
      }
     ],
     "prompt_number": 35
    },
    {
     "cell_type": "code",
     "collapsed": false,
     "input": [
      "np.std(li)"
     ],
     "language": "python",
     "metadata": {},
     "outputs": [
      {
       "output_type": "pyout",
       "prompt_number": 36,
       "text": [
        "2.0344259359556172"
       ]
      }
     ],
     "prompt_number": 36
    },
    {
     "cell_type": "markdown",
     "metadata": {},
     "source": [
      "Notice that in the above case, we used ``import numpy as np`` instead of ``import numpy`` - this means that we can rename the module so that it's not as long to type in the program. Finally, it's also possible to simply import the functions needed directly:"
     ]
    },
    {
     "cell_type": "code",
     "collapsed": false,
     "input": [
      "from math import sin, cos\n",
      "sin(3.4)\n",
      "cos(3.4)"
     ],
     "language": "python",
     "metadata": {},
     "outputs": [
      {
       "output_type": "pyout",
       "prompt_number": 2,
       "text": [
        "-0.9667981925794611"
       ]
      }
     ],
     "prompt_number": 2
    },
    {
     "cell_type": "markdown",
     "metadata": {},
     "source": [
      "You may find examples on the internet that use e.g. ``from module import *``, but this is **not** recommended, because it will make it difficult to debug programs, since common debugging tools that rely on just looking at the programs will not know all the functions that are being imported (more on this later)."
     ]
    },
    {
     "cell_type": "markdown",
     "metadata": {},
     "source": [
      "Where to find modules and functions\n",
      "===================================\n",
      "\n",
      "How do you know which modules exist in the first place? The Python documentation contains a [list of modules in the Standard Library](http://docs.python.org/2/library), but you can also simply search the web (*Google is your friend!*). Once you have a module that you think should contain the right kind of function, you can either look at the documentation for that module, or you can use the tab-completion in IPython:\n",
      "    \n",
      "    In [2]: math.<TAB>\n",
      "    math.acos       math.degrees    math.fsum       math.pi\n",
      "    math.acosh      math.e          math.gamma      math.pow\n",
      "    math.asin       math.erf        math.hypot      math.radians\n",
      "    math.asinh      math.erfc       math.isinf      math.sin\n",
      "    math.atan       math.exp        math.isnan      math.sinh\n",
      "    math.atan2      math.expm1      math.ldexp      math.sqrt\n",
      "    math.atanh      math.fabs       math.lgamma     math.tan\n",
      "    math.ceil       math.factorial  math.log        math.tanh\n",
      "    math.copysign   math.floor      math.log10      math.trunc\n",
      "    math.cos        math.fmod       math.log1p      \n",
      "    math.cosh       math.frexp      math.modf    "
     ]
    },
    {
     "cell_type": "code",
     "collapsed": false,
     "input": [],
     "language": "python",
     "metadata": {},
     "outputs": []
    }
   ],
   "metadata": {}
  }
 ]
}