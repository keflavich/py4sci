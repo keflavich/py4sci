{
 "metadata": {
  "name": "Problem Set 2 - Sample Solutions"
 },
 "nbformat": 3,
 "nbformat_minor": 0,
 "worksheets": [
  {
   "cells": [
    {
     "cell_type": "markdown",
     "metadata": {},
     "source": [
      "Problem Set 2 - Sample Solutions\n",
      "================================\n",
      "\n",
      "Problem 1\n",
      "---------\n",
      "\n",
      "Without using a dictionary:"
     ]
    },
    {
     "cell_type": "code",
     "collapsed": false,
     "input": [
      "\"\"\"\n",
      "Problem 2.1 - Dice\n",
      "Author: Thomas Robitaille\n",
      "\"\"\"\n",
      "\n",
      "import random\n",
      "\n",
      "\n",
      "def roll_dice():\n",
      "    return random.randint(1, 6), random.randint(1, 6)\n",
      "\n",
      "# Roll dice 10000 times and keep track of values\n",
      "values = []\n",
      "for iteration in range(10000):\n",
      "    dice1, dice2 = roll_dice()\n",
      "    values.append(dice1 + dice2)\n",
      "\n",
      "# Find the percentage of times each value was produced\n",
      "for result in range(2, 13):\n",
      "    percentage = 100. * values.count(result) / float(len(values))\n",
      "    print str(result) + ': ' + str(percentage) + '%'\n"
     ],
     "language": "python",
     "metadata": {},
     "outputs": [
      {
       "output_type": "stream",
       "stream": "stdout",
       "text": [
        "2: 2.48%\n",
        "3: 5.66%\n",
        "4: 8.72%\n",
        "5: 10.84%\n",
        "6: 13.81%\n",
        "7: 16.7%\n",
        "8: 13.29%\n",
        "9: 11.21%\n",
        "10: 8.72%\n",
        "11: 5.67%\n",
        "12: 2.9%\n"
       ]
      }
     ],
     "prompt_number": 2
    },
    {
     "cell_type": "markdown",
     "metadata": {},
     "source": [
      "Using a dictionary:"
     ]
    },
    {
     "cell_type": "code",
     "collapsed": false,
     "input": [
      "\"\"\"\n",
      "Problem 2.1 - Dice (with dictionaries)\n",
      "Author: Thomas Robitaille\n",
      "\"\"\"\n",
      "\n",
      "import random\n",
      "\n",
      "\n",
      "def roll_dice():\n",
      "    return random.randint(1, 6), random.randint(1, 6)\n",
      "\n",
      "# Roll dice 10000 times and keep track of how many times each value was sampled\n",
      "count = {}\n",
      "for iteration in range(10000):\n",
      "    dice1, dice2 = roll_dice()\n",
      "    dice_sum = dice1 + dice2\n",
      "    if not dice_sum in count:\n",
      "        count[dice_sum] = 1\n",
      "    else:\n",
      "        count[dice_sum] += 1\n",
      "\n",
      "# Find the percentage of times each value was produced\n",
      "for result in range(2, 13):\n",
      "    percentage = 100. * count[result] / 10000.\n",
      "    print str(result) + ': ' + str(percentage) + '%'"
     ],
     "language": "python",
     "metadata": {},
     "outputs": [
      {
       "output_type": "stream",
       "stream": "stdout",
       "text": [
        "2: 2.75%\n",
        "3: 5.4%\n",
        "4: 8.82%\n",
        "5: 11.13%\n",
        "6: 13.99%\n",
        "7: 16.5%\n",
        "8: 14.12%\n",
        "9: 10.77%\n",
        "10: 8.43%\n",
        "11: 5.44%\n",
        "12: 2.65%\n"
       ]
      }
     ],
     "prompt_number": 3
    },
    {
     "cell_type": "markdown",
     "metadata": {},
     "source": [
      "The advantage of using the dictionaries is that if we needed to sample many more values, we would not need to store **all** of the sampled values, but only the counter, so it will use less memory.\n",
      "\n",
      "Problem 2\n",
      "---------"
     ]
    },
    {
     "cell_type": "code",
     "collapsed": false,
     "input": [
      "\"\"\"\n",
      "Problem 2.2 - Gaussian integral\n",
      "Author: Thomas Robitaille\n",
      "\"\"\"\n",
      "import math\n",
      "\n",
      "\n",
      "def gaussian(x, mu, sigma):\n",
      "    norm = 1. / (sigma * math.sqrt(2. * math.pi))\n",
      "    return norm * math.exp(-(x - mu) ** 2. / (2. * sigma ** 2))\n",
      "\n",
      "\n",
      "def integrate_gaussian(mu, sigma, xmin, xmax, n_steps):\n",
      "\n",
      "    # Find stepping interval for integration\n",
      "    dx = (xmax - xmin) / n_steps\n",
      "\n",
      "    # Do the integral\n",
      "    integral = 0.\n",
      "    for i in range(n_steps):\n",
      "        x1 = xmin + dx * i\n",
      "        x2 = xmin + dx * (i + 1)\n",
      "        f1 = gaussian(x1, mu, sigma)\n",
      "        f2 = gaussian(x2, mu, sigma)\n",
      "        integral += (x2 - x1) * (f1 + f2) * 0.5\n",
      "\n",
      "    return integral\n",
      "\n",
      "# print out initial value\n",
      "print 'initial:', integrate_gaussian(3., 1., -10., 10., 1000)\n",
      "\n",
      "# lowering steps decreases accuracy because the Gaussian is not well\n",
      "# represented with only a few bins.\n",
      "for i in [1000, 300, 100, 30, 10, 3]:\n",
      "    print 'n_steps=' + str(i) + ':', integrate_gaussian(3., 1., -10., 10., i)\n",
      "\n",
      "# setting xmin=3 means the integral is 1/2, which is what we get\n",
      "print 'xmin=3:', integrate_gaussian(3., 1., 3., 10., 1000)\n"
     ],
     "language": "python",
     "metadata": {},
     "outputs": [
      {
       "output_type": "stream",
       "stream": "stdout",
       "text": [
        "initial: 0.999999999999\n",
        "n_steps=1000: 0.999999999999\n",
        "n_steps=300: 0.999999999999\n",
        "n_steps=100: 0.999999999999\n",
        "n_steps=30: 0.999999999997\n",
        "n_steps=10: 0.98561623863\n",
        "n_steps=3: 2.51588818984\n",
        "xmin=3: "
       ]
      },
      {
       "output_type": "stream",
       "stream": "stdout",
       "text": [
        "0.499999999999\n"
       ]
      }
     ],
     "prompt_number": 5
    }
   ],
   "metadata": {}
  }
 ]
}