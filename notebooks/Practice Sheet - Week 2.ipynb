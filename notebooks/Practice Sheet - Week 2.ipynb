{
 "metadata": {
  "name": "Practice Sheet - Week 2"
 },
 "nbformat": 3,
 "nbformat_minor": 0,
 "worksheets": [
  {
   "cells": [
    {
     "cell_type": "markdown",
     "metadata": {},
     "source": [
      "Practice Sheet - Week 2\n",
      "=======================\n",
      "\n",
      "These exercises are just for practice (and fun!), and you can find the solutions in **Practice Sheet - Week 2 - Solutions**. You are free to try and collaborate with other students for this, since it isn't assessed. One way you can do it is to try it yourself, then to compare results with other students, and try and improve your solutions!\n",
      "\n",
      "Practice Problem 1\n",
      "------------------\n",
      "\n",
      "Try and write a function that will return the factorial of a number (e.g. 5!=5*4*3*2*1), and test it out by comparing to the output of ``math.factorial``. First you can try and write a function that uses a loop internally.\n",
      "\n",
      "It is possible for functions to call themselves (**recursive** functions), so see if you can write a function that uses **no** loops! (again, test the results compared to ``math.factorial``).\n",
      "\n",
      "Practice Problem 2\n",
      "------------------\n",
      "\n",
      "Cryptography is the study of how to make messages secret or how to read secret messages. A very simple encryption technique is called the *Caesar cipher*, which you can read up more about [here](http://en.wikipedia.org/wiki/Caesar_cipher). The basic idea is that each letter is replaced by a letter that is a certain number of letters away, so for example if the shift was 2, then A would become C, B would become D, etc. (and Z will become B).\n",
      "\n",
      "Write a function that given a string and a shift, will produce the encrypted string for that shift. Note that the same function can be used to decrypt a message, by passing it a negative shift. \n",
      "\n",
      "The rules are: you should only accept and return lowercase letters, and spaces should not be changed.\n",
      "\n",
      "Hint: the built-in functions ``chr`` and ``ord`` will be useful for this (and remember you can find out more about a function by using ``?`` in IPython). Remember that you can loop over strings like you would over lists.\n",
      "\n",
      "Then, decrypt the following message, which was encrypted with a shift of 13:\n",
      "    \n",
      "    pbatenghyngvbaf lbh unir fhpprrqrq va qrpelcgvat gur fgevat    \n",
      "    \n",
      "Now if you are up for a challenge, try and decrypt this **and** find the shift:\n",
      "    \n",
      "    gwc uivioml bw nqvl bpm zqopb apqnb\n",
      "    \n",
      "And if this is all too easy for you, write your *own* ``chr`` and ``ord`` functions instead of using the built-in ones!\n",
      "    "
     ]
    }
   ],
   "metadata": {}
  }
 ]
}