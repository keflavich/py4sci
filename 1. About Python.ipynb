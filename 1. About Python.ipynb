{
 "metadata": {
  "name": "1. About Python"
 },
 "nbformat": 3,
 "nbformat_minor": 0,
 "worksheets": [
  {
   "cells": [
    {
     "cell_type": "markdown",
     "metadata": {},
     "source": [
      "About Python\n",
      "============"
     ]
    }
   ],
   "metadata": {}
  }
 ]
}