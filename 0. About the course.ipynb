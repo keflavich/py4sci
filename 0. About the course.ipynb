{
 "metadata": {
  "name": "0. About the course"
 },
 "nbformat": 3,
 "nbformat_minor": 0,
 "worksheets": [
  {
   "cells": [
    {
     "cell_type": "markdown",
     "metadata": {},
     "source": [
      "About the course\n",
      "================\n",
      "\n",
      "About me\n",
      "--------\n",
      "\n",
      "What is 'Programming'?\n",
      "----------------------\n",
      "\n",
      "Course outline\n",
      "--------------\n",
      "\n",
      "- 15 April - About the course, About python, Basics of Python I\n",
      "- 22 April - Basics of Python II\n",
      "- 29 April - Numpy and arrays\n",
      "- 6 May - Plotting with Matplotlib\n",
      "- 13 May - Scientific analysis with Scipy\n",
      "- 27 May - Reading/writing data from files\n",
      "- 3 June - Interlude: Version control with Git\n",
      "- 10 June - Object-oriented programming\n",
      "- 17 June - Parallel computing in Python\n",
      "- 1 July - High-performance Python\n",
      "- 8 July - Python as a glue (os module, web access, ...)\n",
      "- 15 July - Reproducible research and the IPython notebook\n",
      "- 22 July - \n",
      "\n",
      "Structure\n",
      "---------\n",
      "\n",
      "The course will be in English.\n",
      "\n",
      "Lecture/pracical session every Monday from 16:15 to 18:00. Format is flexible, but will usually start with a mini-lecture on a new topic every week, followed by time to try/practice what was demonstrated and work on problems. Students can also work on problems at other times during the week, either in the CIP pool, or on their on laptops (see below).\n",
      "\n",
      "There will be a problem every week that you should submit solutions to. There will be *no* final exam. An average of 60% in the problem sets will be required to obtain the credits at the end of the course.\n",
      "\n",
      "Solutions should be submitted individually, *not* in groups.\n",
      "\n",
      "Solutions\n",
      "---------\n",
      "\n",
      "Solutions should be handed it via [GitHub](http://www.github.com). The first time you go there, you will need to create a free account. Once you are logged in to GitHub:\n",
      "\n",
      "- go to [Gist](https://gist.github.com/)\n",
      "- enter a description (Solution to Problem X)\n",
      "- name (no spaces, ends in ``.py``)\n",
      "- paste the code into the box (you can edit it once it is posted). Make sure your name is included at the top of the script in a comment or docstring.\n",
      "- select 'Python' for the language if not already selected\n",
      "- click 'Create Secret Gist'\n",
      "- review, make changes, until you are ready to submit it\n",
      "- go to [this form](https://docs.google.com/forms/d/1kIWT0r-U8WZxep35QOVl5XvXuyCZTx--KG024SMbkgA/viewform), enter your name, the problem number, and enter the URL (it will look like ``https://gist.github.com/astrofrog/2a2e8809af2b35b716ee``).\n",
      "\n",
      "[DEMO]\n",
      "\n",
      "Each problem set is graded out of 10. This is a combination of the following criteria - the problem should:\n",
      "\n",
      "- run with no errors (if it is unable to complete successfully 5 points will be deducted)\n",
      "- produce the correct results\n",
      "- be clearly readable, and include comments explaining what is being done\n",
      "- include a header summarizing the problem and if there are any special instructions for running the program\n",
      "- shorter solutions are in general better, but this is not a competition to get everything on one line. The program should be readable and avoid repetition wherever possible (use functions when possible!)\n",
      "- remove any unused code!\n",
      "\n"
     ]
    },
    {
     "cell_type": "code",
     "collapsed": false,
     "input": [
      "%more bad_solution.py"
     ],
     "language": "python",
     "metadata": {},
     "outputs": [],
     "prompt_number": 21
    },
    {
     "cell_type": "markdown",
     "metadata": {},
     "source": [
      "\n",
      "\n",
      "Laptops\n",
      "-------\n",
      "\n",
      "If you would like to use Python on your laptop, you have several possibilities:\n",
      "\n",
      "- If you have a linux laptop and are familiar with package managers, most major scientific Python packages are available through these\n",
      "- Otherwise, try and install the [Anaconda Python distribution](http://continuum.io/downloads.html)\n",
      "\n",
      "Come and speak to me after the course (18:00) if you have any questions or need any help getting set up."
     ]
    },
    {
     "cell_type": "code",
     "collapsed": false,
     "input": [],
     "language": "python",
     "metadata": {},
     "outputs": []
    }
   ],
   "metadata": {}
  }
 ]
}