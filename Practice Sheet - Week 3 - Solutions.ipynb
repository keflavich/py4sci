{
 "metadata": {
  "name": "Practice Sheet - Week 3 - Solutions"
 },
 "nbformat": 3,
 "nbformat_minor": 0,
 "worksheets": [
  {
   "cells": [
    {
     "cell_type": "markdown",
     "metadata": {},
     "source": [
      "Practice Sheet - Week 3 - Solutions\n",
      "===================================\n",
      "\n",
      "Practice Problem 1\n",
      "------------------"
     ]
    },
    {
     "cell_type": "code",
     "collapsed": false,
     "input": [
      "import numpy as np\n",
      "\n",
      "# Set Gaussian parameters\n",
      "mean = 4.4\n",
      "sigma = 1.2\n",
      "\n",
      "# Set number of samples\n",
      "N = 1000\n",
      "\n",
      "# Sample random values\n",
      "v = np.random.normal(mean, sigma, N)\n",
      "\n",
      "# Plot the histogram\n",
      "h = plt.hist(v, range=[0., 10.], bins=30, normed=True)\n",
      "\n",
      "# Define Gaussian Function\n",
      "x = np.linspace(0., 10., 100)\n",
      "y = 1. / (sigma * np.sqrt(2. * np.pi)) * np.exp(-(x - mean)**2 / (2. * sigma**2))\n",
      "\n",
      "# Plot Gaussian Function\n",
      "plt.plot(x, y, linewidth=3, color='red')"
     ],
     "language": "python",
     "metadata": {},
     "outputs": [
      {
       "output_type": "pyout",
       "prompt_number": 12,
       "text": [
        "[<matplotlib.lines.Line2D at 0x1052600d0>]"
       ]
      },
      {
       "output_type": "display_data",
       "png": "[encoded data removed]"
      }
     ],
     "prompt_number": 12
    },
    {
     "cell_type": "markdown",
     "metadata": {},
     "source": [
      "Practice Problem 2\n",
      "------------------"
     ]
    },
    {
     "cell_type": "code",
     "collapsed": false,
     "input": [
      "def add(list1, list2):\n",
      "    new_list = []\n",
      "    for i in range(len(list1)):\n",
      "        new_list.append(list1[i] + list2[i])\n",
      "    return new_list"
     ],
     "language": "python",
     "metadata": {},
     "outputs": [],
     "prompt_number": 24
    },
    {
     "cell_type": "code",
     "collapsed": false,
     "input": [
      "import numpy as np"
     ],
     "language": "python",
     "metadata": {},
     "outputs": [],
     "prompt_number": 25
    },
    {
     "cell_type": "code",
     "collapsed": false,
     "input": [
      "list1 = range(1000)\n",
      "list2 = range(1000)"
     ],
     "language": "python",
     "metadata": {},
     "outputs": [],
     "prompt_number": 14
    },
    {
     "cell_type": "code",
     "collapsed": false,
     "input": [
      "%timeit new_list = add(list1, list2)"
     ],
     "language": "python",
     "metadata": {},
     "outputs": [
      {
       "output_type": "stream",
       "stream": "stdout",
       "text": [
        "1000 loops, best of 3: 438 us per loop\n"
       ]
      }
     ],
     "prompt_number": 15
    },
    {
     "cell_type": "code",
     "collapsed": false,
     "input": [
      "array1 = np.array(list1)\n",
      "array2 = np.array(list2)"
     ],
     "language": "python",
     "metadata": {},
     "outputs": [],
     "prompt_number": 17
    },
    {
     "cell_type": "code",
     "collapsed": false,
     "input": [
      "%timeit new_array = array1 + array2"
     ],
     "language": "python",
     "metadata": {},
     "outputs": [
      {
       "output_type": "stream",
       "stream": "stdout",
       "text": [
        "100000 loops, best of 3: 5.05 us per loop\n"
       ]
      }
     ],
     "prompt_number": 18
    },
    {
     "cell_type": "markdown",
     "metadata": {},
     "source": [
      "This is almost a factor of 100 faster than with the pure-Python lists!"
     ]
    },
    {
     "cell_type": "code",
     "collapsed": false,
     "input": [],
     "language": "python",
     "metadata": {},
     "outputs": []
    }
   ],
   "metadata": {}
  }
 ]
}