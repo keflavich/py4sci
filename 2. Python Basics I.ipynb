{
 "metadata": {
  "name": "2. Python Basics I"
 },
 "nbformat": 3,
 "nbformat_minor": 0,
 "worksheets": [
  {
   "cells": [
    {
     "cell_type": "markdown",
     "metadata": {},
     "source": [
      "Python Basics I\n",
      "==============="
     ]
    }
   ],
   "metadata": {}
  }
 ]
}